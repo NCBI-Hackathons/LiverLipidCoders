{
 "cells": [
  {
   "cell_type": "code",
   "execution_count": 1,
   "metadata": {},
   "outputs": [
    {
     "name": "stderr",
     "output_type": "stream",
     "text": [
      "Using TensorFlow backend.\n"
     ]
    }
   ],
   "source": [
    "import os\n",
    "import sys\n",
    "import numpy as np\n",
    "import pandas as pd\n",
    "import tensorflow\n",
    "import keras"
   ]
  },
  {
   "cell_type": "code",
   "execution_count": 2,
   "metadata": {},
   "outputs": [],
   "source": [
    "strDataDir = r'/project/hackathon/hackers12/shared'\n",
    "dfTrainData = pd.read_csv(os.path.join(strDataDir,'DataNormedToTrain','Normed_Training_Data.csv'), index_col=0)\n",
    "dfTrainData = dfTrainData[dfTrainData.Group != 'Unknown']\n",
    "dfTestData = pd.read_csv(os.path.join(strDataDir,'DataNormedToTrain','Normed_Test_Data.csv'), index_col=0)\n",
    "dfTestData = dfTestData[dfTestData.Group != 'Unknown']\n",
    "dfNameFile = pd.read_excel(os.path.join(strDataDir,'Clean_data.xlsx'), sheet_name = 'Names File')\n",
    "dfNameFile.sort_values(by=['group_number'], inplace=True)\n",
    "dfNameFile = dfNameFile[dfNameFile['group_number'] <= 4]\n",
    "lTrainSamples = dfTrainData.columns[4:]\n",
    "lTestSamples = dfTestData.columns[4:]"
   ]
  },
  {
   "cell_type": "code",
   "execution_count": 3,
   "metadata": {},
   "outputs": [
    {
     "data": {
      "text/plain": [
       "True"
      ]
     },
     "execution_count": 3,
     "metadata": {},
     "output_type": "execute_result"
    }
   ],
   "source": [
    "np.array_equal(dfTrainData.Name.values, dfTestData.Name.values)"
   ]
  },
  {
   "cell_type": "code",
   "execution_count": 4,
   "metadata": {},
   "outputs": [],
   "source": [
    "intModelID = 188\n",
    "epochs = int(53*1.1)\n",
    "strModel = 'model%s'%intModelID\n",
    "strModelDir = os.path.join(strDataDir, 'alex_models')\n",
    "model = keras.models.load_model(os.path.join(strModelDir,strModel+'.h5'))\n",
    "Xtrain = np.array(dfTrainData[lTrainSamples]).T\n",
    "Xtest = np.array(dfTestData[lTestSamples]).T"
   ]
  },
  {
   "cell_type": "code",
   "execution_count": 5,
   "metadata": {},
   "outputs": [
    {
     "data": {
      "text/plain": [
       "(388, 82)"
      ]
     },
     "execution_count": 5,
     "metadata": {},
     "output_type": "execute_result"
    }
   ],
   "source": [
    "dfTrainData.shape"
   ]
  },
  {
   "cell_type": "code",
   "execution_count": 6,
   "metadata": {},
   "outputs": [
    {
     "name": "stdout",
     "output_type": "stream",
     "text": [
      "_________________________________________________________________\n",
      "Layer (type)                 Output Shape              Param #   \n",
      "=================================================================\n",
      "dense_950 (Dense)            (None, 256)               99584     \n",
      "_________________________________________________________________\n",
      "batch_normalization_498 (Bat (None, 256)               1024      \n",
      "_________________________________________________________________\n",
      "dense_951 (Dense)            (None, 32)                8224      \n",
      "_________________________________________________________________\n",
      "batch_normalization_499 (Bat (None, 32)                128       \n",
      "_________________________________________________________________\n",
      "dense_952 (Dense)            (None, 3)                 99        \n",
      "=================================================================\n",
      "Total params: 109,059\n",
      "Trainable params: 108,483\n",
      "Non-trainable params: 576\n",
      "_________________________________________________________________\n"
     ]
    }
   ],
   "source": [
    "model.summary()"
   ]
  },
  {
   "cell_type": "code",
   "execution_count": 7,
   "metadata": {},
   "outputs": [],
   "source": [
    "def fOneHot(v):\n",
    "    if v == 1 or v == 2:\n",
    "        return [1,0,0]\n",
    "    if v == 3:\n",
    "        return [0,1,0]\n",
    "    if v == 4:\n",
    "        return [0,0,1]\n",
    "dfNameFile['OneHot'] = dfNameFile.group_number.apply(lambda x: fOneHot(x))\n",
    "ytrain = np.array(dfNameFile.set_index('sample_name').loc[lTrainSamples]['OneHot'].values.tolist())\n",
    "ytest = np.array(dfNameFile.set_index('sample_name').loc[lTestSamples]['OneHot'].values.tolist())"
   ]
  },
  {
   "cell_type": "code",
   "execution_count": 8,
   "metadata": {},
   "outputs": [
    {
     "data": {
      "text/plain": [
       "(78, 388)"
      ]
     },
     "execution_count": 8,
     "metadata": {},
     "output_type": "execute_result"
    }
   ],
   "source": [
    "Xtrain.shape"
   ]
  },
  {
   "cell_type": "code",
   "execution_count": 9,
   "metadata": {},
   "outputs": [
    {
     "name": "stdout",
     "output_type": "stream",
     "text": [
      "Epoch 1/58\n",
      "78/78 [==============================] - 1s 7ms/step - loss: 1.1061 - acc: 0.3718\n",
      "Epoch 2/58\n",
      "78/78 [==============================] - 0s 189us/step - loss: 0.4206 - acc: 0.7821\n",
      "Epoch 3/58\n",
      "78/78 [==============================] - 0s 174us/step - loss: 0.2616 - acc: 0.8718\n",
      "Epoch 4/58\n",
      "78/78 [==============================] - 0s 183us/step - loss: 0.2023 - acc: 0.9231\n",
      "Epoch 5/58\n",
      "78/78 [==============================] - 0s 179us/step - loss: 0.1607 - acc: 0.9615\n",
      "Epoch 6/58\n",
      "78/78 [==============================] - 0s 175us/step - loss: 0.1350 - acc: 0.9615\n",
      "Epoch 7/58\n",
      "78/78 [==============================] - 0s 169us/step - loss: 0.0954 - acc: 0.9872\n",
      "Epoch 8/58\n",
      "78/78 [==============================] - 0s 168us/step - loss: 0.1150 - acc: 0.9744\n",
      "Epoch 9/58\n",
      "78/78 [==============================] - 0s 171us/step - loss: 0.0784 - acc: 0.9872\n",
      "Epoch 10/58\n",
      "78/78 [==============================] - 0s 174us/step - loss: 0.0739 - acc: 0.9872\n",
      "Epoch 11/58\n",
      "78/78 [==============================] - 0s 170us/step - loss: 0.0721 - acc: 1.0000\n",
      "Epoch 12/58\n",
      "78/78 [==============================] - 0s 160us/step - loss: 0.0781 - acc: 0.9872\n",
      "Epoch 13/58\n",
      "78/78 [==============================] - 0s 168us/step - loss: 0.0444 - acc: 1.0000\n",
      "Epoch 14/58\n",
      "78/78 [==============================] - 0s 164us/step - loss: 0.0543 - acc: 1.0000\n",
      "Epoch 15/58\n",
      "78/78 [==============================] - 0s 175us/step - loss: 0.0439 - acc: 1.0000\n",
      "Epoch 16/58\n",
      "78/78 [==============================] - 0s 163us/step - loss: 0.0392 - acc: 1.0000\n",
      "Epoch 17/58\n",
      "78/78 [==============================] - 0s 166us/step - loss: 0.0298 - acc: 1.0000\n",
      "Epoch 18/58\n",
      "78/78 [==============================] - 0s 157us/step - loss: 0.0278 - acc: 1.0000\n",
      "Epoch 19/58\n",
      "78/78 [==============================] - 0s 166us/step - loss: 0.0260 - acc: 1.0000\n",
      "Epoch 20/58\n",
      "78/78 [==============================] - 0s 165us/step - loss: 0.0223 - acc: 1.0000\n",
      "Epoch 21/58\n",
      "78/78 [==============================] - 0s 162us/step - loss: 0.0213 - acc: 1.0000\n",
      "Epoch 22/58\n",
      "78/78 [==============================] - 0s 155us/step - loss: 0.0235 - acc: 1.0000\n",
      "Epoch 23/58\n",
      "78/78 [==============================] - 0s 169us/step - loss: 0.0216 - acc: 1.0000\n",
      "Epoch 24/58\n",
      "78/78 [==============================] - 0s 164us/step - loss: 0.0190 - acc: 1.0000\n",
      "Epoch 25/58\n",
      "78/78 [==============================] - 0s 164us/step - loss: 0.0236 - acc: 1.0000\n",
      "Epoch 26/58\n",
      "78/78 [==============================] - 0s 151us/step - loss: 0.0191 - acc: 1.0000\n",
      "Epoch 27/58\n",
      "78/78 [==============================] - 0s 171us/step - loss: 0.0153 - acc: 1.0000\n",
      "Epoch 28/58\n",
      "78/78 [==============================] - 0s 167us/step - loss: 0.0192 - acc: 1.0000\n",
      "Epoch 29/58\n",
      "78/78 [==============================] - 0s 162us/step - loss: 0.0136 - acc: 1.0000\n",
      "Epoch 30/58\n",
      "78/78 [==============================] - 0s 153us/step - loss: 0.0154 - acc: 1.0000\n",
      "Epoch 31/58\n",
      "78/78 [==============================] - 0s 163us/step - loss: 0.0123 - acc: 1.0000\n",
      "Epoch 32/58\n",
      "78/78 [==============================] - 0s 159us/step - loss: 0.0119 - acc: 1.0000\n",
      "Epoch 33/58\n",
      "78/78 [==============================] - 0s 162us/step - loss: 0.0106 - acc: 1.0000\n",
      "Epoch 34/58\n",
      "78/78 [==============================] - 0s 156us/step - loss: 0.0143 - acc: 1.0000\n",
      "Epoch 35/58\n",
      "78/78 [==============================] - 0s 155us/step - loss: 0.0120 - acc: 1.0000\n",
      "Epoch 36/58\n",
      "78/78 [==============================] - 0s 158us/step - loss: 0.0100 - acc: 1.0000\n",
      "Epoch 37/58\n",
      "78/78 [==============================] - 0s 159us/step - loss: 0.0115 - acc: 1.0000\n",
      "Epoch 38/58\n",
      "78/78 [==============================] - 0s 162us/step - loss: 0.0102 - acc: 1.0000\n",
      "Epoch 39/58\n",
      "78/78 [==============================] - 0s 158us/step - loss: 0.0129 - acc: 1.0000\n",
      "Epoch 40/58\n",
      "78/78 [==============================] - 0s 160us/step - loss: 0.0140 - acc: 1.0000\n",
      "Epoch 41/58\n",
      "78/78 [==============================] - 0s 161us/step - loss: 0.0079 - acc: 1.0000\n",
      "Epoch 42/58\n",
      "78/78 [==============================] - 0s 152us/step - loss: 0.0093 - acc: 1.0000\n",
      "Epoch 43/58\n",
      "78/78 [==============================] - 0s 163us/step - loss: 0.0096 - acc: 1.0000\n",
      "Epoch 44/58\n",
      "78/78 [==============================] - 0s 158us/step - loss: 0.0085 - acc: 1.0000\n",
      "Epoch 45/58\n",
      "78/78 [==============================] - 0s 169us/step - loss: 0.0082 - acc: 1.0000\n",
      "Epoch 46/58\n",
      "78/78 [==============================] - 0s 161us/step - loss: 0.0068 - acc: 1.0000\n",
      "Epoch 47/58\n",
      "78/78 [==============================] - 0s 169us/step - loss: 0.0066 - acc: 1.0000\n",
      "Epoch 48/58\n",
      "78/78 [==============================] - 0s 162us/step - loss: 0.0066 - acc: 1.0000\n",
      "Epoch 49/58\n",
      "78/78 [==============================] - 0s 157us/step - loss: 0.0080 - acc: 1.0000\n",
      "Epoch 50/58\n",
      "78/78 [==============================] - 0s 160us/step - loss: 0.0084 - acc: 1.0000\n",
      "Epoch 51/58\n",
      "78/78 [==============================] - 0s 161us/step - loss: 0.0057 - acc: 1.0000\n",
      "Epoch 52/58\n",
      "78/78 [==============================] - 0s 169us/step - loss: 0.0092 - acc: 1.0000\n",
      "Epoch 53/58\n",
      "78/78 [==============================] - 0s 163us/step - loss: 0.0080 - acc: 1.0000\n",
      "Epoch 54/58\n",
      "78/78 [==============================] - 0s 173us/step - loss: 0.0055 - acc: 1.0000\n",
      "Epoch 55/58\n",
      "78/78 [==============================] - 0s 161us/step - loss: 0.0059 - acc: 1.0000\n",
      "Epoch 56/58\n",
      "78/78 [==============================] - 0s 165us/step - loss: 0.0069 - acc: 1.0000\n",
      "Epoch 57/58\n",
      "78/78 [==============================] - 0s 167us/step - loss: 0.0047 - acc: 1.0000\n",
      "Epoch 58/58\n",
      "78/78 [==============================] - 0s 158us/step - loss: 0.0050 - acc: 1.0000\n"
     ]
    },
    {
     "data": {
      "text/plain": [
       "<keras.callbacks.History at 0x7fff59a27c18>"
      ]
     },
     "execution_count": 9,
     "metadata": {},
     "output_type": "execute_result"
    }
   ],
   "source": [
    "class_weight = {0:.5,1:1,2:1}\n",
    "model.fit(Xtrain, ytrain, epochs=epochs, class_weight = class_weight)"
   ]
  },
  {
   "cell_type": "code",
   "execution_count": 10,
   "metadata": {},
   "outputs": [],
   "source": [
    "yPredict = model.predict(Xtest)\n",
    "yPredictMax = np.argmax(yPredict, axis=1)\n",
    "ytestMax = np.argmax(ytest, axis=1)"
   ]
  },
  {
   "cell_type": "code",
   "execution_count": 11,
   "metadata": {},
   "outputs": [],
   "source": [
    "intC = 0\n",
    "for i,j in zip(yPredictMax, ytestMax):\n",
    "    if i == j:\n",
    "        intC+=1"
   ]
  },
  {
   "cell_type": "code",
   "execution_count": 12,
   "metadata": {},
   "outputs": [
    {
     "data": {
      "text/plain": [
       "0.7777777777777778"
      ]
     },
     "execution_count": 12,
     "metadata": {},
     "output_type": "execute_result"
    }
   ],
   "source": [
    "intC/yPredictMax.__len__()"
   ]
  },
  {
   "cell_type": "code",
   "execution_count": 13,
   "metadata": {},
   "outputs": [],
   "source": [
    "model.save(os.path.join(strDataDir,'LLC_Final_Model.h5'))"
   ]
  },
  {
   "cell_type": "code",
   "execution_count": 14,
   "metadata": {},
   "outputs": [
    {
     "data": {
      "text/plain": [
       "array([0, 0, 0, 0, 0, 1, 1, 2, 2])"
      ]
     },
     "execution_count": 14,
     "metadata": {},
     "output_type": "execute_result"
    }
   ],
   "source": [
    "ytestMax"
   ]
  },
  {
   "cell_type": "code",
   "execution_count": 15,
   "metadata": {},
   "outputs": [
    {
     "data": {
      "text/plain": [
       "array([0, 0, 0, 2, 0, 1, 0, 2, 2])"
      ]
     },
     "execution_count": 15,
     "metadata": {},
     "output_type": "execute_result"
    }
   ],
   "source": [
    "yPredictMax"
   ]
  },
  {
   "cell_type": "code",
   "execution_count": null,
   "metadata": {},
   "outputs": [],
   "source": []
  }
 ],
 "metadata": {
  "kernelspec": {
   "display_name": "Python 3",
   "language": "python",
   "name": "python3"
  },
  "language_info": {
   "codemirror_mode": {
    "name": "ipython",
    "version": 3
   },
   "file_extension": ".py",
   "mimetype": "text/x-python",
   "name": "python",
   "nbconvert_exporter": "python",
   "pygments_lexer": "ipython3",
   "version": "3.6.5"
  }
 },
 "nbformat": 4,
 "nbformat_minor": 2
}
